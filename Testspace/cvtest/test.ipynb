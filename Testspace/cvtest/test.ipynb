{
 "cells": [
  {
   "cell_type": "code",
   "execution_count": null,
   "metadata": {},
   "outputs": [],
   "source": [
    "import cv2\n",
    "import matplotlib.pyplot as plt\n",
    "import numpy as np\n",
    "import math\n",
    "\n",
    "def img_show(img):\n",
    "    img_rgb = cv2.cvtColor(img, cv2.COLOR_BGR2RGB)\n",
    "    plt.figure(\"Image\") # 图像窗口名称\n",
    "    plt.imshow(img_rgb)\n",
    "    plt.axis('off') # 关掉坐标轴为 off\n",
    "    plt.show()\n",
    "\n",
    "color_dist = {'red': {'Lower': np.array([0, 60, 60]), 'Upper': np.array([6, 255, 255])},          \n",
    "              'blue': {'Lower': np.array([108, 88, 58]), 'Upper': np.array([118, 255, 255])},\n",
    "              'green': {'Lower': np.array([90, 50, 45]), 'Upper': np.array([100, 255, 255])},\n",
    "              'none': {'Lower': np.array([0, 0, 0]), 'Upper': np.array([255, 255, 255])},}\n",
    "\n",
    "# 摄像头内参\n",
    "mtx = np.array([[1.35635605e+03, 0.00000000e+00, 6.46212314e+02],\n",
    "       [0.00000000e+00, 1.35578874e+03, 3.78009469e+02],\n",
    "       [0.00000000e+00, 0.00000000e+00, 1.00000000e+00]])\n",
    "\n",
    "dist = np.array([[-2.52464877e-01, 1.92828476e-01, -6.55508668e-04, 2.48903668e-03, -7.45335496e-01]])"
   ]
  },
  {
   "cell_type": "code",
   "execution_count": null,
   "metadata": {},
   "outputs": [],
   "source": [
    "img = cv2.imread(\"./test.jpg\")\n",
    "\n",
    "dst = cv2.undistort(img, mtx, dist, None, mtx)\n",
    "\n",
    "hsv_img = cv2.cvtColor(dst, cv2.COLOR_BGR2HSV)\n",
    "\n",
    "edges = cv2.Canny(inRange_hsv,50,150,apertureSize = 3)"
   ]
  },
  {
   "cell_type": "code",
   "execution_count": null,
   "metadata": {},
   "outputs": [],
   "source": [
    "cnts = cv2.findContours(edges, cv2.RETR_EXTERNAL, cv2.CHAIN_APPROX_SIMPLE)"
   ]
  },
  {
   "cell_type": "code",
   "execution_count": null,
   "metadata": {},
   "outputs": [],
   "source": [
    "prb_cnt = []\n",
    "for cnt in cnts:\n",
    "    if len(cnt) > len(prb_cnt):\n",
    "        prb_cnt = cnt\n",
    "\n"
   ]
  },
  {
   "cell_type": "code",
   "execution_count": null,
   "metadata": {},
   "outputs": [],
   "source": [
    " inRange_hsv = cv2.inRange(hsv_img,\n",
    "                            color_dist[\"blue\"][\"Lower\"], \n",
    "                            color_dist[\"blue\"][\"Upper\"])\n",
    "\n",
    "circle = cv2.HoughCircles(inRange_hsv, cv2.HOUGH_GRADIENT, 3, 60,\n",
    "                        param1=100, param2=75, minRadius=100, maxRadius=150)\n",
    "# 将检测结果绘制在图像上\n",
    "for i in circle[0, :]:  # 遍历矩阵的每一行的数据\n",
    "    # 绘制圆形\n",
    "    cv2.circle(dst, (int(i[0]), int(i[1])), int(i[2]), (255, 0, 0), 10)\n",
    "    # 绘制圆心\n",
    "    cv2.circle(dst, (int(i[0]), int(i[1])), 10, (255, 0, 0), -1)\n",
    "\n",
    "print(circle[0][0])\n",
    "\n",
    "img_show(dst)"
   ]
  },
  {
   "cell_type": "code",
   "execution_count": null,
   "metadata": {},
   "outputs": [],
   "source": [
    "tmp = 0\n",
    "for color in [\"red\", \"green\", \"blue\"]:\n",
    "    inRange_hsv = cv2.inRange(hsv_img,\n",
    "                            color_dist[color][\"Lower\"], \n",
    "                            color_dist[color][\"Upper\"])\n",
    "    circle = cv2.HoughCircles(inRange_hsv, cv2.HOUGH_GRADIENT, 3, 60,\n",
    "                        param1=100, param2=75, minRadius=220, maxRadius=250)\n",
    "    if circle is not None:\n",
    "        print (color)\n",
    "        print(circle[0][0])\n",
    "    else:\n",
    "        if np.mean(inRange_hsv) > tmp:\n",
    "            tmp = np.mean(inRange_hsv)\n",
    "            print(tmp)\n",
    "            prb_color = color\n",
    "    img_show(inRange_hsv)\n",
    "print(prb_color)\n"
   ]
  },
  {
   "cell_type": "code",
   "execution_count": null,
   "metadata": {},
   "outputs": [],
   "source": [
    "img_show( inRange_hsv)"
   ]
  },
  {
   "cell_type": "code",
   "execution_count": null,
   "metadata": {},
   "outputs": [],
   "source": [
    "# img_gray = cv2.cvtColor(img, cv2.COLOR_BGR2GRAY)\n",
    "# ret,img_bin=cv2.threshold(img_gray, 127, 255, cv2.THRESH_BINARY)\n",
    "# img_dst = cv2.medianBlur(img_gray, 7)"
   ]
  }
 ],
 "metadata": {
  "kernelspec": {
   "display_name": "cvbot",
   "language": "python",
   "name": "python3"
  },
  "language_info": {
   "codemirror_mode": {
    "name": "ipython",
    "version": 3
   },
   "file_extension": ".py",
   "mimetype": "text/x-python",
   "name": "python",
   "nbconvert_exporter": "python",
   "pygments_lexer": "ipython3",
   "version": "3.10.12"
  },
  "orig_nbformat": 4
 },
 "nbformat": 4,
 "nbformat_minor": 2
}
