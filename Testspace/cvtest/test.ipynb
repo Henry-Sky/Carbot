{
 "cells": [
  {
   "cell_type": "code",
   "execution_count": 89,
   "metadata": {},
   "outputs": [],
   "source": [
    "import cv2\n",
    "import matplotlib.pyplot as plt\n",
    "import numpy as np\n",
    "import math\n",
    "\n",
    "def img_show(img):\n",
    "    img_rgb = cv2.cvtColor(img, cv2.COLOR_BGR2RGB)\n",
    "    plt.figure(\"Image\") # 图像窗口名称\n",
    "    plt.imshow(img_rgb)\n",
    "    plt.axis('off') # 关掉坐标轴为 off\n",
    "    plt.show()\n",
    "\n",
    "bull_color_dist = {'red': {'Lower': np.array([0, 60, 60]), 'Upper': np.array([26, 255, 255])},          \n",
    "              'blue': {'Lower': np.array([108, 88, 58]), 'Upper': np.array([118, 255, 255])},\n",
    "              'green': {'Lower': np.array([55, 40, 40]), 'Upper': np.array([80, 255, 255])},\n",
    "              'none': {'Lower': np.array([0, 0, 0]), 'Upper': np.array([255, 255, 255])},}\n",
    "\n",
    "# 摄像头内参\n",
    "mtx = np.array([[1.35635605e+03, 0.00000000e+00, 6.46212314e+02],\n",
    "       [0.00000000e+00, 1.35578874e+03, 3.78009469e+02],\n",
    "       [0.00000000e+00, 0.00000000e+00, 1.00000000e+00]])\n",
    "\n",
    "dist = np.array([[-2.52464877e-01, 1.92828476e-01, -6.55508668e-04, 2.48903668e-03, -7.45335496e-01]])"
   ]
  },
  {
   "cell_type": "code",
   "execution_count": 90,
   "metadata": {},
   "outputs": [],
   "source": [
    "img = cv2.imread(\"./imgsrc/1.jpg\")\n",
    "\n",
    "dst = cv2.undistort(img, mtx, dist, None, mtx)\n",
    "\n",
    "hsv_img = cv2.cvtColor(dst, cv2.COLOR_BGR2HSV)\n",
    "\n",
    "inRange_hsv = cv2.inRange(hsv_img,\n",
    "                            bull_color_dist[\"red\"][\"Lower\"], \n",
    "                            bull_color_dist[\"red\"][\"Upper\"])\n",
    "\n",
    "edges = cv2.Canny(inRange_hsv,50,150,apertureSize = 3)"
   ]
  },
  {
   "cell_type": "code",
   "execution_count": 91,
   "metadata": {},
   "outputs": [],
   "source": [
    "circle = cv2.HoughCircles(inRange_hsv, cv2.HOUGH_GRADIENT, 3, 60,\n",
    "                        param1=100, param2=75, minRadius=100, maxRadius=150)"
   ]
  },
  {
   "cell_type": "code",
   "execution_count": 92,
   "metadata": {},
   "outputs": [
    {
     "data": {
      "image/png": "[encoded data removed]",
      "text/plain": [
       "<Figure size 640x480 with 1 Axes>"
      ]
     },
     "metadata": {},
     "output_type": "display_data"
    }
   ],
   "source": [
    "img_show(inRange_hsv)"
   ]
  },
  {
   "cell_type": "code",
   "execution_count": 93,
   "metadata": {},
   "outputs": [],
   "source": [
    "# 勿删！！！\n",
    "# 识别物体轮廓测试\n",
    "\n",
    "# contours, hierarchy = cv2.findContours(inRange_hsv, cv2.RETR_TREE, cv2.CHAIN_APPROX_SIMPLE)\n",
    "\n",
    "# res_con = []\n",
    "# for contour in contours:\n",
    "#     if len(contour) > len(res_con):\n",
    "#         res_con = contour\n",
    "\n",
    "# x, y, w, h = cv2.boundingRect(res_con)\n",
    "# print(x,y)\n",
    "\n",
    "# con_img = cv2.drawContours(dst, res_con, -1, (0, 0, 255), 3)\n",
    "\n",
    "# img_show(con_img)"
   ]
  },
  {
   "cell_type": "code",
   "execution_count": 2,
   "metadata": {},
   "outputs": [
    {
     "name": "stdout",
     "output_type": "stream",
     "text": [
      "green\n"
     ]
    }
   ],
   "source": [
    "def color_sum(color_list):\n",
    "    red = 0\n",
    "    green = 0\n",
    "    blue = 0\n",
    "    for color in color_list:\n",
    "        if color == \"red\":\n",
    "            red +=1\n",
    "        elif color == \"green\":\n",
    "            green += 1\n",
    "        elif color == \"blue\":\n",
    "            blue += 1\n",
    "        else:\n",
    "            pass\n",
    "    dict = {red:\"red\", green:\"green\", blue:\"blue\"}\n",
    "    return dict[sorted([red, green, blue])[2]]\n",
    "\n",
    "print(color_sum([\"red\", \"green\", \"green\", \"green\", \"blue\", \"blue\"]))"
   ]
  },
  {
   "cell_type": "code",
   "execution_count": 18,
   "metadata": {},
   "outputs": [
    {
     "name": "stderr",
     "output_type": "stream",
     "text": [
      "[ WARN:0@128.170] global cap_v4l.cpp:982 open VIDEOIO(V4L2:/dev/video0): can't open camera by index\n",
      "[ERROR:0@128.181] global obsensor_uvc_stream_channel.cpp:156 getStreamChannelGroup Camera index out of range\n"
     ]
    }
   ],
   "source": [
    "import cv2\n",
    "cap = cv2.VideoCapture(0)"
   ]
  }
 ],
 "metadata": {
  "kernelspec": {
   "display_name": "cvbot",
   "language": "python",
   "name": "python3"
  },
  "language_info": {
   "codemirror_mode": {
    "name": "ipython",
    "version": 3
   },
   "file_extension": ".py",
   "mimetype": "text/x-python",
   "name": "python",
   "nbconvert_exporter": "python",
   "pygments_lexer": "ipython3",
   "version": "3.10.12"
  },
  "orig_nbformat": 4
 },
 "nbformat": 4,
 "nbformat_minor": 2
}
