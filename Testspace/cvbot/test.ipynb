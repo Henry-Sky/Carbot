{
 "cells": [
  {
   "cell_type": "code",
   "execution_count": 1,
   "metadata": {},
   "outputs": [],
   "source": [
    "import cv2\n",
    "import matplotlib.pyplot as plt\n",
    "import numpy as np\n",
    "\n",
    "def img_show(img):\n",
    "    plt.figure(\"Image\") # 图像窗口名称\n",
    "    plt.imshow(img)\n",
    "    plt.axis('off') # 关掉坐标轴为 off\n",
    "    plt.show()\n",
    "\n",
    "color_dist = {'red': {'Lower': np.array([0, 60, 60]), 'Upper': np.array([6, 255, 255])},\n",
    "              'gray': {'Lower': np.array([0, 0, 46]), 'Upper': np.array([180, 43, 220])},\n",
    "              'yellow': {'Lower': np.array([26, 43, 46]), 'Upper': np.array([34, 255, 255])},          \n",
    "              'blue': {'Lower': np.array([100, 80, 46]), 'Upper': np.array([124, 255, 255])},\n",
    "              'green': {'Lower': np.array([35, 43, 35]), 'Upper': np.array([90, 255, 255])},}\n",
    "\n",
    "# 摄像头内参\n",
    "mtx = np.array([[1.35635605e+03, 0.00000000e+00, 6.46212314e+02],\n",
    "       [0.00000000e+00, 1.35578874e+03, 3.78009469e+02],\n",
    "       [0.00000000e+00, 0.00000000e+00, 1.00000000e+00]])\n",
    "\n",
    "dist = np.array([[-2.52464877e-01, 1.92828476e-01, -6.55508668e-04, 2.48903668e-03, -7.45335496e-01]])\n",
    "\n",
    "img = cv2.imread(\"./imgsrc/3.jpg\")\n",
    "\n",
    "dst = cv2.undistort(img, mtx, dist, None, mtx)"
   ]
  },
  {
   "cell_type": "code",
   "execution_count": 2,
   "metadata": {},
   "outputs": [],
   "source": [
    "\n",
    "hsv_img = cv2.cvtColor(dst, cv2.COLOR_BGR2HSV)\n",
    "# erode_hsv = cv2.erode(hsv_img, None, iterations=2)\n",
    "inRange_hsv = cv2.inRange(hsv_img, color_dist['red']['Lower'], color_dist['red']['Upper'])"
   ]
  },
  {
   "cell_type": "code",
   "execution_count": 3,
   "metadata": {},
   "outputs": [
    {
     "data": {
      "image/png": "[encoded data removed]",
      "text/plain": [
       "<Figure size 640x480 with 1 Axes>"
      ]
     },
     "metadata": {},
     "output_type": "display_data"
    }
   ],
   "source": [
    "img_show(inRange_hsv)"
   ]
  },
  {
   "cell_type": "code",
   "execution_count": 4,
   "metadata": {},
   "outputs": [],
   "source": [
    "circle = cv2.HoughCircles(inRange_hsv, cv2.HOUGH_GRADIENT, 1, 50,\n",
    "                         param1=100, param2=80, minRadius=120, maxRadius=200)"
   ]
  },
  {
   "cell_type": "code",
   "execution_count": 5,
   "metadata": {},
   "outputs": [
    {
     "ename": "TypeError",
     "evalue": "'NoneType' object is not subscriptable",
     "output_type": "error",
     "traceback": [
      "\u001b[1;31m---------------------------------------------------------------------------\u001b[0m",
      "\u001b[1;31mTypeError\u001b[0m                                 Traceback (most recent call last)",
      "\u001b[1;32md:\\Project\\Carbot\\Testspace\\cvbot\\test.ipynb 单元格 5\u001b[0m line \u001b[0;36m2\n\u001b[0;32m      <a href='vscode-notebook-cell:/d%3A/Project/Carbot/Testspace/cvbot/test.ipynb#W4sZmlsZQ%3D%3D?line=0'>1</a>\u001b[0m \u001b[39m# 将检测结果绘制在图像上\u001b[39;00m\n\u001b[1;32m----> <a href='vscode-notebook-cell:/d%3A/Project/Carbot/Testspace/cvbot/test.ipynb#W4sZmlsZQ%3D%3D?line=1'>2</a>\u001b[0m \u001b[39mfor\u001b[39;00m i \u001b[39min\u001b[39;00m circle[\u001b[39m0\u001b[39;49m, :]:  \u001b[39m# 遍历矩阵的每一行的数据\u001b[39;00m\n\u001b[0;32m      <a href='vscode-notebook-cell:/d%3A/Project/Carbot/Testspace/cvbot/test.ipynb#W4sZmlsZQ%3D%3D?line=2'>3</a>\u001b[0m     \u001b[39m# 绘制圆形\u001b[39;00m\n\u001b[0;32m      <a href='vscode-notebook-cell:/d%3A/Project/Carbot/Testspace/cvbot/test.ipynb#W4sZmlsZQ%3D%3D?line=3'>4</a>\u001b[0m     cv2\u001b[39m.\u001b[39mcircle(dst, (\u001b[39mint\u001b[39m(i[\u001b[39m0\u001b[39m]), \u001b[39mint\u001b[39m(i[\u001b[39m1\u001b[39m])), \u001b[39mint\u001b[39m(i[\u001b[39m2\u001b[39m]), (\u001b[39m255\u001b[39m, \u001b[39m0\u001b[39m, \u001b[39m0\u001b[39m), \u001b[39m10\u001b[39m)\n\u001b[0;32m      <a href='vscode-notebook-cell:/d%3A/Project/Carbot/Testspace/cvbot/test.ipynb#W4sZmlsZQ%3D%3D?line=4'>5</a>\u001b[0m     \u001b[39m# 绘制圆心\u001b[39;00m\n",
      "\u001b[1;31mTypeError\u001b[0m: 'NoneType' object is not subscriptable"
     ]
    }
   ],
   "source": [
    "# 将检测结果绘制在图像上\n",
    "for i in circle[0, :]:  # 遍历矩阵的每一行的数据\n",
    "    # 绘制圆形\n",
    "    cv2.circle(dst, (int(i[0]), int(i[1])), int(i[2]), (255, 0, 0), 10)\n",
    "    # 绘制圆心\n",
    "    cv2.circle(dst, (int(i[0]), int(i[1])), 10, (255, 0, 0), -1)\n",
    "\n",
    "img_show(dst)"
   ]
  },
  {
   "cell_type": "code",
   "execution_count": null,
   "metadata": {},
   "outputs": [],
   "source": [
    "img_gray = cv2.cvtColor(img, cv2.COLOR_BGR2GRAY)\n",
    "ret,img_bin=cv2.threshold(img_gray, 127, 255, cv2.THRESH_BINARY)\n",
    "img_dst = cv2.medianBlur(img_gray, 7)"
   ]
  }
 ],
 "metadata": {
  "kernelspec": {
   "display_name": "cvbot",
   "language": "python",
   "name": "python3"
  },
  "language_info": {
   "codemirror_mode": {
    "name": "ipython",
    "version": 3
   },
   "file_extension": ".py",
   "mimetype": "text/x-python",
   "name": "python",
   "nbconvert_exporter": "python",
   "pygments_lexer": "ipython3",
   "version": "3.8.17"
  },
  "orig_nbformat": 4
 },
 "nbformat": 4,
 "nbformat_minor": 2
}
