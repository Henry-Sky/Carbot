{
 "cells": [
  {
   "cell_type": "code",
   "execution_count": null,
   "metadata": {},
   "outputs": [],
   "source": [
    "import cv2\n",
    "import numpy as np\n",
    "import matplotlib.pyplot as plt"
   ]
  },
  {
   "cell_type": "code",
   "execution_count": 3,
   "metadata": {},
   "outputs": [
    {
     "name": "stderr",
     "output_type": "stream",
     "text": [
      "[ WARN:0@102.792] global cap_v4l.cpp:982 open VIDEOIO(V4L2:/dev/video0): can't open camera by index\n",
      "[ WARN:0@102.793] global obsensor_stream_channel_v4l2.cpp:82 xioctl ioctl: fd=71, req=-2140645888\n",
      "[ WARN:0@102.793] global obsensor_stream_channel_v4l2.cpp:138 queryUvcDeviceInfoList ioctl error return: 25\n",
      "[ WARN:0@102.793] global obsensor_stream_channel_v4l2.cpp:82 xioctl ioctl: fd=71, req=-2140645888\n",
      "[ WARN:0@102.793] global obsensor_stream_channel_v4l2.cpp:138 queryUvcDeviceInfoList ioctl error return: 25\n",
      "[ WARN:0@102.793] global obsensor_stream_channel_v4l2.cpp:82 xioctl ioctl: fd=71, req=-2140645888\n",
      "[ WARN:0@102.793] global obsensor_stream_channel_v4l2.cpp:138 queryUvcDeviceInfoList ioctl error return: 25\n",
      "[ WARN:0@102.793] global obsensor_stream_channel_v4l2.cpp:82 xioctl ioctl: fd=72, req=-2140645888\n",
      "[ WARN:0@102.793] global obsensor_stream_channel_v4l2.cpp:138 queryUvcDeviceInfoList ioctl error return: 25\n",
      "[ WARN:0@102.794] global obsensor_stream_channel_v4l2.cpp:82 xioctl ioctl: fd=72, req=-2140645888\n",
      "[ WARN:0@102.794] global obsensor_stream_channel_v4l2.cpp:138 queryUvcDeviceInfoList ioctl error return: 25\n",
      "[ WARN:0@102.794] global obsensor_stream_channel_v4l2.cpp:82 xioctl ioctl: fd=72, req=-2140645888\n",
      "[ WARN:0@102.794] global obsensor_stream_channel_v4l2.cpp:138 queryUvcDeviceInfoList ioctl error return: 25\n",
      "[ WARN:0@102.794] global obsensor_stream_channel_v4l2.cpp:82 xioctl ioctl: fd=72, req=-2140645888\n",
      "[ WARN:0@102.794] global obsensor_stream_channel_v4l2.cpp:138 queryUvcDeviceInfoList ioctl error return: 25\n",
      "[ WARN:0@102.794] global obsensor_stream_channel_v4l2.cpp:82 xioctl ioctl: fd=72, req=-2140645888\n",
      "[ WARN:0@102.794] global obsensor_stream_channel_v4l2.cpp:138 queryUvcDeviceInfoList ioctl error return: 25\n",
      "[ WARN:0@102.794] global obsensor_stream_channel_v4l2.cpp:82 xioctl ioctl: fd=72, req=-2140645888\n",
      "[ WARN:0@102.794] global obsensor_stream_channel_v4l2.cpp:138 queryUvcDeviceInfoList ioctl error return: 25\n",
      "[ WARN:0@102.796] global obsensor_stream_channel_v4l2.cpp:82 xioctl ioctl: fd=72, req=-2140645888\n",
      "[ WARN:0@102.796] global obsensor_stream_channel_v4l2.cpp:138 queryUvcDeviceInfoList ioctl error return: 25\n",
      "[ERROR:0@102.798] global obsensor_uvc_stream_channel.cpp:156 getStreamChannelGroup Camera index out of range\n"
     ]
    },
    {
     "ename": "error",
     "evalue": "OpenCV(4.8.1) /io/opencv/modules/highgui/src/window.cpp:971: error: (-215:Assertion failed) size.width>0 && size.height>0 in function 'imshow'\n",
     "output_type": "error",
     "traceback": [
      "\u001b[0;31m---------------------------------------------------------------------------\u001b[0m",
      "\u001b[0;31merror\u001b[0m                                     Traceback (most recent call last)",
      "\u001b[1;32m/home/henry/Workspace/SIT_Carbot/Testspace/cvbot/test.ipynb 单元格 2\u001b[0m line \u001b[0;36m1\n\u001b[1;32m     <a href='vscode-notebook-cell:/home/henry/Workspace/SIT_Carbot/Testspace/cvbot/test.ipynb#W6sZmlsZQ%3D%3D?line=9'>10</a>\u001b[0m         \u001b[39mif\u001b[39;00m c \u001b[39m==\u001b[39m \u001b[39m27\u001b[39m:\n\u001b[1;32m     <a href='vscode-notebook-cell:/home/henry/Workspace/SIT_Carbot/Testspace/cvbot/test.ipynb#W6sZmlsZQ%3D%3D?line=10'>11</a>\u001b[0m             \u001b[39mbreak\u001b[39;00m\n\u001b[0;32m---> <a href='vscode-notebook-cell:/home/henry/Workspace/SIT_Carbot/Testspace/cvbot/test.ipynb#W6sZmlsZQ%3D%3D?line=11'>12</a>\u001b[0m video_demo()\n\u001b[1;32m     <a href='vscode-notebook-cell:/home/henry/Workspace/SIT_Carbot/Testspace/cvbot/test.ipynb#W6sZmlsZQ%3D%3D?line=12'>13</a>\u001b[0m cv2\u001b[39m.\u001b[39mdestroyAllWindows()\n",
      "\u001b[1;32m/home/henry/Workspace/SIT_Carbot/Testspace/cvbot/test.ipynb 单元格 2\u001b[0m line \u001b[0;36m8\n\u001b[1;32m      <a href='vscode-notebook-cell:/home/henry/Workspace/SIT_Carbot/Testspace/cvbot/test.ipynb#W6sZmlsZQ%3D%3D?line=5'>6</a>\u001b[0m ret, frame \u001b[39m=\u001b[39m capture\u001b[39m.\u001b[39mread()\u001b[39m#摄像头读取,ret为是否成功打开摄像头,true,false。 frame为视频的每一帧图像\u001b[39;00m\n\u001b[1;32m      <a href='vscode-notebook-cell:/home/henry/Workspace/SIT_Carbot/Testspace/cvbot/test.ipynb#W6sZmlsZQ%3D%3D?line=6'>7</a>\u001b[0m frame \u001b[39m=\u001b[39m cv2\u001b[39m.\u001b[39mflip(frame, \u001b[39m1\u001b[39m)\u001b[39m#摄像头是和人对立的，将图像左右调换回来正常显示。\u001b[39;00m\n\u001b[0;32m----> <a href='vscode-notebook-cell:/home/henry/Workspace/SIT_Carbot/Testspace/cvbot/test.ipynb#W6sZmlsZQ%3D%3D?line=7'>8</a>\u001b[0m cv2\u001b[39m.\u001b[39;49mimshow(\u001b[39m\"\u001b[39;49m\u001b[39mvideo\u001b[39;49m\u001b[39m\"\u001b[39;49m, frame)\n\u001b[1;32m      <a href='vscode-notebook-cell:/home/henry/Workspace/SIT_Carbot/Testspace/cvbot/test.ipynb#W6sZmlsZQ%3D%3D?line=8'>9</a>\u001b[0m c \u001b[39m=\u001b[39m cv2\u001b[39m.\u001b[39mwaitKey(\u001b[39m50\u001b[39m)\n\u001b[1;32m     <a href='vscode-notebook-cell:/home/henry/Workspace/SIT_Carbot/Testspace/cvbot/test.ipynb#W6sZmlsZQ%3D%3D?line=9'>10</a>\u001b[0m \u001b[39mif\u001b[39;00m c \u001b[39m==\u001b[39m \u001b[39m27\u001b[39m:\n",
      "\u001b[0;31merror\u001b[0m: OpenCV(4.8.1) /io/opencv/modules/highgui/src/window.cpp:971: error: (-215:Assertion failed) size.width>0 && size.height>0 in function 'imshow'\n"
     ]
    }
   ],
   "source": [
    "import cv2\n",
    "import numpy as np\n",
    "def video_demo():\n",
    "    capture = cv2.VideoCapture(0)#0为电脑内置摄像头\n",
    "    while(True):\n",
    "        ret, frame = capture.read()#摄像头读取,ret为是否成功打开摄像头,true,false。 frame为视频的每一帧图像\n",
    "        frame = cv2.flip(frame, 1)#摄像头是和人对立的，将图像左右调换回来正常显示。\n",
    "        cv2.imshow(\"video\", frame)\n",
    "        c = cv2.waitKey(50)\n",
    "        if c == 27:\n",
    "            break\n",
    "video_demo()\n",
    "cv2.destroyAllWindows()\n"
   ]
  },
  {
   "cell_type": "code",
   "execution_count": 20,
   "metadata": {},
   "outputs": [],
   "source": [
    "def img_show(img):\n",
    "    plt.figure(\"Image\") # 图像窗口名称\n",
    "    plt.imshow(img)\n",
    "    plt.axis('off') # 关掉坐标轴为 off\n",
    "    plt.show()"
   ]
  },
  {
   "cell_type": "code",
   "execution_count": 21,
   "metadata": {},
   "outputs": [],
   "source": [
    "img = cv2.imread(\"./imgsrc/test.jpg\")\n",
    "img_gray = cv2.cvtColor(img, cv2.COLOR_BGR2GRAY)\n",
    "ret,img_bin=cv2.threshold(img_gray, 127, 255, cv2.THRESH_BINARY)\n",
    "img_dst = cv2.medianBlur(img_gray, 7)"
   ]
  },
  {
   "cell_type": "code",
   "execution_count": 22,
   "metadata": {},
   "outputs": [
    {
     "ename": "TypeError",
     "evalue": "'NoneType' object is not subscriptable",
     "output_type": "error",
     "traceback": [
      "\u001b[0;31m---------------------------------------------------------------------------\u001b[0m",
      "\u001b[0;31mTypeError\u001b[0m                                 Traceback (most recent call last)",
      "\u001b[1;32m/home/henry/Workspace/Project/cvbot/test.ipynb 单元格 4\u001b[0m line \u001b[0;36m5\n\u001b[1;32m      <a href='vscode-notebook-cell:/home/henry/Workspace/Project/cvbot/test.ipynb#W3sZmlsZQ%3D%3D?line=0'>1</a>\u001b[0m circle \u001b[39m=\u001b[39m cv2\u001b[39m.\u001b[39mHoughCircles(img_dst, cv2\u001b[39m.\u001b[39mHOUGH_GRADIENT, \u001b[39m1\u001b[39m, \u001b[39m50\u001b[39m,\n\u001b[1;32m      <a href='vscode-notebook-cell:/home/henry/Workspace/Project/cvbot/test.ipynb#W3sZmlsZQ%3D%3D?line=1'>2</a>\u001b[0m                          param1\u001b[39m=\u001b[39m\u001b[39m100\u001b[39m, param2\u001b[39m=\u001b[39m\u001b[39m100\u001b[39m, minRadius\u001b[39m=\u001b[39m\u001b[39m10\u001b[39m, maxRadius\u001b[39m=\u001b[39m\u001b[39m500\u001b[39m)\n\u001b[1;32m      <a href='vscode-notebook-cell:/home/henry/Workspace/Project/cvbot/test.ipynb#W3sZmlsZQ%3D%3D?line=3'>4</a>\u001b[0m \u001b[39m# 将检测结果绘制在图像上\u001b[39;00m\n\u001b[0;32m----> <a href='vscode-notebook-cell:/home/henry/Workspace/Project/cvbot/test.ipynb#W3sZmlsZQ%3D%3D?line=4'>5</a>\u001b[0m \u001b[39mfor\u001b[39;00m i \u001b[39min\u001b[39;00m circle[\u001b[39m0\u001b[39;49m, :]:  \u001b[39m# 遍历矩阵的每一行的数据\u001b[39;00m\n\u001b[1;32m      <a href='vscode-notebook-cell:/home/henry/Workspace/Project/cvbot/test.ipynb#W3sZmlsZQ%3D%3D?line=5'>6</a>\u001b[0m     \u001b[39m# 绘制圆形\u001b[39;00m\n\u001b[1;32m      <a href='vscode-notebook-cell:/home/henry/Workspace/Project/cvbot/test.ipynb#W3sZmlsZQ%3D%3D?line=6'>7</a>\u001b[0m     \u001b[39m# cv2.circle(img_dst, (int(i[0]), int(i[1])), int(i[2]), (255, 0, 0), 10)\u001b[39;00m\n\u001b[1;32m      <a href='vscode-notebook-cell:/home/henry/Workspace/Project/cvbot/test.ipynb#W3sZmlsZQ%3D%3D?line=7'>8</a>\u001b[0m     \u001b[39m# 绘制圆心\u001b[39;00m\n\u001b[1;32m      <a href='vscode-notebook-cell:/home/henry/Workspace/Project/cvbot/test.ipynb#W3sZmlsZQ%3D%3D?line=8'>9</a>\u001b[0m     cv2\u001b[39m.\u001b[39mcircle(img, (\u001b[39mint\u001b[39m(i[\u001b[39m0\u001b[39m]), \u001b[39mint\u001b[39m(i[\u001b[39m1\u001b[39m])), \u001b[39m10\u001b[39m, (\u001b[39m255\u001b[39m, \u001b[39m0\u001b[39m, \u001b[39m0\u001b[39m), \u001b[39m-\u001b[39m\u001b[39m1\u001b[39m)\n",
      "\u001b[0;31mTypeError\u001b[0m: 'NoneType' object is not subscriptable"
     ]
    }
   ],
   "source": [
    "circle = cv2.HoughCircles(img_dst, cv2.HOUGH_GRADIENT, 1, 50,\n",
    "                         param1=100, param2=100, minRadius=10, maxRadius=500)\n",
    "\n",
    "# 将检测结果绘制在图像上\n",
    "for i in circle[0, :]:  # 遍历矩阵的每一行的数据\n",
    "    # 绘制圆形\n",
    "    # cv2.circle(img_dst, (int(i[0]), int(i[1])), int(i[2]), (255, 0, 0), 10)\n",
    "    # 绘制圆心\n",
    "    cv2.circle(img, (int(i[0]), int(i[1])), 10, (255, 0, 0), -1)"
   ]
  },
  {
   "cell_type": "code",
   "execution_count": null,
   "metadata": {},
   "outputs": [],
   "source": [
    "img_show(img)"
   ]
  },
  {
   "cell_type": "code",
   "execution_count": null,
   "metadata": {},
   "outputs": [],
   "source": [
    "# P = [[458.654, 0, 367.215],\n",
    "#      [0, 457.296, 248.375],\n",
    "#      [0, 0, 1]]\n",
    "# K = [-0.28340811, 0.07395907, 0.00019359, 1.76187114e-05]\n",
    "# img_distort = cv2.undistort(img, np.array(P), np.array(K))\n",
    "# img_diff = cv2.absdiff(img, img_distort)"
   ]
  }
 ],
 "metadata": {
  "kernelspec": {
   "display_name": "cvbot",
   "language": "python",
   "name": "python3"
  },
  "language_info": {
   "codemirror_mode": {
    "name": "ipython",
    "version": 3
   },
   "file_extension": ".py",
   "mimetype": "text/x-python",
   "name": "python",
   "nbconvert_exporter": "python",
   "pygments_lexer": "ipython3",
   "version": "3.8.18"
  },
  "orig_nbformat": 4
 },
 "nbformat": 4,
 "nbformat_minor": 2
}
