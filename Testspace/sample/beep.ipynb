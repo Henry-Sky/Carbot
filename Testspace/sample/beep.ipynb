{
 "cells": [
  {
   "cell_type": "code",
   "execution_count": null,
   "id": "6dedfc5b-3989-4f87-922c-59874fda0770",
   "metadata": {},
   "outputs": [],
   "source": [
    "#!/usr/bin/env python3\n",
    "#coding=utf-8\n",
    "import time\n",
    "from carbot_lib import Carbot"
   ]
  },
  {
   "cell_type": "code",
   "execution_count": null,
   "id": "55d5545c-818f-4da6-8e51-ea10d7d1b1d4",
   "metadata": {},
   "outputs": [],
   "source": [
    "# 创建Rosmaster对象 bot  Create the Rosmaster object bot\n",
    "bot = Carbot()"
   ]
  },
  {
   "cell_type": "code",
   "execution_count": null,
   "id": "74be1a81-9797-40b5-b5c8-2d3875df92eb",
   "metadata": {},
   "outputs": [],
   "source": [
    "# 蜂鸣器自动响100毫秒后关闭 \n",
    "# 蜂鸣器开关，on_time=0：关闭，on_time=1：一直响，\n",
    "# on_time>=10：响xx毫秒后自动关闭（on_time是10的倍数）。\n",
    "\n",
    "on_time = 1000\n",
    "bot.set_beep(on_time)\n",
    "time.sleep(1) # 延迟退出cell"
   ]
  },
  {
   "cell_type": "code",
   "execution_count": null,
   "id": "5d62330c-47c8-43f8-94d3-aae2cb8dbfc5",
   "metadata": {},
   "outputs": [],
   "source": [
    "# 蜂鸣器自动响300毫秒后关闭\n",
    "# 蜂鸣器开关，on_time=0：关闭，on_time=1：一直响，\n",
    "# on_time>=10：响xx毫秒后自动关闭（on_time是10的倍数）。\n",
    "\n",
    "on_time = 300\n",
    "bot.set_beep(on_time)\n",
    "time.sleep(1) # 延迟退出cell"
   ]
  },
  {
   "cell_type": "code",
   "execution_count": null,
   "id": "8bbf5425-883c-42c2-82b2-591b2f98167a",
   "metadata": {},
   "outputs": [],
   "source": [
    "# 蜂鸣器一直响\n",
    "# 蜂鸣器开关，on_time=0：关闭，on_time=1：一直响，\n",
    "# on_time>=10：响xx毫秒后自动关闭（on_time是10的倍数）。\n",
    "\n",
    "on_time = 1\n",
    "bot.set_beep(on_time)\n",
    "time.sleep(1) # 延迟退出cell"
   ]
  },
  {
   "cell_type": "code",
   "execution_count": null,
   "id": "88cd5eb7-4c6a-4576-90c8-40997dcab1da",
   "metadata": {},
   "outputs": [],
   "source": [
    "# 蜂鸣器关闭\n",
    "# 蜂鸣器开关，on_time=0：关闭，on_time=1：一直响，\n",
    "# on_time>=10：响xx毫秒后自动关闭（on_time是10的倍数）。\n",
    "\n",
    "on_time = 0\n",
    "bot.set_beep(on_time)\n",
    "time.sleep(1) # 延迟退出cell"
   ]
  },
  {
   "cell_type": "code",
   "execution_count": null,
   "id": "fac9dbc2-07bb-4889-87d0-2f319a592343",
   "metadata": {},
   "outputs": [],
   "source": [
    "# 程序结束后请删除对象，避免在其他程序中使用库造成冲突\n",
    "\n",
    "del bot"
   ]
  }
 ],
 "metadata": {
  "kernelspec": {
   "display_name": "Python 3",
   "language": "python",
   "name": "python3"
  },
  "language_info": {
   "codemirror_mode": {
    "name": "ipython",
    "version": 3
   },
   "file_extension": ".py",
   "mimetype": "text/x-python",
   "name": "python",
   "nbconvert_exporter": "python",
   "pygments_lexer": "ipython3",
   "version": "3.8.9"
  }
 },
 "nbformat": 4,
 "nbformat_minor": 5
}
