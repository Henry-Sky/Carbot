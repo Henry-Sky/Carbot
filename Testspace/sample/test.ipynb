{
 "cells": [
  {
   "cell_type": "code",
   "execution_count": 1,
   "metadata": {},
   "outputs": [
    {
     "name": "stdout",
     "output_type": "stream",
     "text": [
      "Rosmaster Serial Opened! Baudrate=115200\n",
      "----------------create receive threading--------------\n"
     ]
    }
   ],
   "source": [
    "from carbot_lib import Carbot\n",
    "car = Carbot()\n",
    "car.create_receive_threading()"
   ]
  },
  {
   "cell_type": "markdown",
   "metadata": {},
   "source": [
    "- 设置pid\n",
    " set_yaw_pid_param(self, kp, ki, kd, forever=False)  \n",
    " car.set_yaw_pid_param()  \n",
    "- 获取pid\n",
    " get_yaw_pid(self)  \n",
    "- 控制小车向前、向后、向左、向右等运动。\n",
    " state=[0, 7],=0停止,=1前进,=2后退,=3向左,=4向右,=5左旋,=6右旋,=7停车  \n",
    " speed=[-100, 100]，=0停止  \n",
    " set_car_run(self, state, speed, adjust=False)  \n",
    " 原始数据[0.4, 0.0, 0.1]  "
   ]
  },
  {
   "cell_type": "code",
   "execution_count": 25,
   "metadata": {},
   "outputs": [],
   "source": [
    " car.set_yaw_pid_param( 0.4, 0.0, 1)\n",
    " car.set_car_run(3, 10, adjust=True) "
   ]
  },
  {
   "cell_type": "code",
   "execution_count": 26,
   "metadata": {},
   "outputs": [],
   "source": [
    "car.set_car_run(0, 0, adjust=True)"
   ]
  },
  {
   "cell_type": "code",
   "execution_count": 5,
   "metadata": {},
   "outputs": [
    {
     "data": {
      "text/plain": [
       "[0.4, 0.1, 1.0]"
      ]
     },
     "execution_count": 5,
     "metadata": {},
     "output_type": "execute_result"
    }
   ],
   "source": [
    " car.get_yaw_pid()"
   ]
  },
  {
   "cell_type": "code",
   "execution_count": 9,
   "metadata": {},
   "outputs": [],
   "source": [
    "del car"
   ]
  }
 ],
 "metadata": {
  "kernelspec": {
   "display_name": "Python 3",
   "language": "python",
   "name": "python3"
  },
  "language_info": {
   "codemirror_mode": {
    "name": "ipython",
    "version": 3
   },
   "file_extension": ".py",
   "mimetype": "text/x-python",
   "name": "python",
   "nbconvert_exporter": "python",
   "pygments_lexer": "ipython3",
   "version": "3.10.12"
  },
  "orig_nbformat": 4
 },
 "nbformat": 4,
 "nbformat_minor": 2
}
