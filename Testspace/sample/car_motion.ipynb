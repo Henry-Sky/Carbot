{
 "cells": [
  {
   "cell_type": "code",
   "execution_count": null,
   "id": "5ac6e98b-cc7c-4473-af5c-de50da6d88b8",
   "metadata": {},
   "outputs": [],
   "source": [
    "#!/usr/bin/env python3\n",
    "#coding=utf-8\n",
    "import time\n",
    "from carbot_lib import Carbot\n",
    "from ipywidgets import interact\n",
    "import ipywidgets as widgets"
   ]
  },
  {
   "cell_type": "code",
   "execution_count": null,
   "id": "a61e4c10-6650-47e0-bd01-9dada327fd21",
   "metadata": {},
   "outputs": [],
   "source": [
    "# 创建Rosmaster对象 bot Create the Rosmaster object bot\n",
    "bot = Carbot()\n"
   ]
  },
  {
   "cell_type": "code",
   "execution_count": null,
   "id": "7efe37e8-a23c-419f-b7b0-a26df2f2f185",
   "metadata": {},
   "outputs": [],
   "source": [
    "# 启动接收数据，只能启动一次，所有读取数据的功能都是基于此方法\n",
    "# Start to receive data, can only start once, all read data function is based on this method\n",
    "bot.create_receive_threading()"
   ]
  },
  {
   "cell_type": "markdown",
   "id": "47635173-358d-4c3c-b560-f11fcc94f937",
   "metadata": {},
   "source": [
    "## 自动上报数据开关\n",
    "## Switch of automatic data reporting"
   ]
  },
  {
   "cell_type": "code",
   "execution_count": null,
   "id": "4e7916db-565c-497e-b33c-b71027922c34",
   "metadata": {},
   "outputs": [],
   "source": [
    "# 开启自动发送数据\n",
    "# enable=True，底层扩展板会每隔40毫秒发送一次数据。enable=False，则不发送。\n",
    "# forever=True永久保存，=False临时作用。\n",
    "# Enable automatic data sending\n",
    "# If enable=True, the underlying expansion module sends data every 40 milliseconds.  If enable=False, the port is not sent.\n",
    "# Forever =True for permanent, =False for temporary\n",
    "enable = True\n",
    "bot.set_auto_report_state(enable, forever=False)"
   ]
  },
  {
   "cell_type": "code",
   "execution_count": null,
   "id": "4dc7373a-ce81-4909-b80a-3dc636a4de24",
   "metadata": {},
   "outputs": [],
   "source": [
    "# 关闭自动发送数据\n",
    "# enable=True，底层扩展板会每隔40毫秒发送一次数据。enable=False，则不发送。\n",
    "# forever=True永久保存，=False临时作用。\n",
    "# Disable automatic data sending\n",
    "# If enable=True, the underlying expansion module sends data every 40 milliseconds.  If enable=False, the port is not sent.\n",
    "# Forever =True for permanent, =False for temporary\n",
    "enable = False\n",
    "bot.set_auto_report_state(enable, forever=False)"
   ]
  },
  {
   "cell_type": "code",
   "execution_count": null,
   "id": "6e0b77bb-fe93-4e58-9954-979fc432beed",
   "metadata": {},
   "outputs": [],
   "source": [
    "# 清除单片机自动发送过来的缓存数据 Clear the cache data automatically sent by the MCU\n",
    "bot.clear_auto_report_data()"
   ]
  },
  {
   "cell_type": "markdown",
   "id": "fc26a1f9-7e81-4040-aee2-b9b80b38a075",
   "metadata": {},
   "source": [
    "## 小车控制速度相关参数设置"
   ]
  },
  {
   "cell_type": "code",
   "execution_count": null,
   "id": "649029f5-902c-42aa-a226-bb57cbd5d148",
   "metadata": {
    "tags": []
   },
   "outputs": [],
   "source": [
    "# 控制电机运动 Control motor movement\n",
    "def car_motion(V_x, V_y, V_z):\n",
    "    speed_x= V_x / 10.0\n",
    "    speed_y = V_y / 10.0\n",
    "    speed_z = V_z / 10.0\n",
    "    bot.set_car_motion(speed_x, speed_y, speed_z)\n",
    "    return speed_x, speed_y, speed_z\n",
    "\n",
    "\n",
    "# 创建三个滑块来控制小车的速度 Create three sliders to control the speed of the car\n",
    "interact(car_motion, \\\n",
    "         V_x=widgets.IntSlider(min=-10,max=10,step=1,value=0), \\\n",
    "         V_y=widgets.IntSlider(min=-10,max=10,step=1,value=0), \\\n",
    "         V_z=widgets.IntSlider(min=-50,max=50,step=1,value=0));\n"
   ]
  },
  {
   "cell_type": "code",
   "execution_count": null,
   "id": "ce20522b-9a67-46d2-9fe4-b52b9256511e",
   "metadata": {},
   "outputs": [],
   "source": [
    "# 停止运动 stop motion\n",
    "bot.set_car_motion(0, 0, 0.5)\n",
    "time.sleep(0.2)\n",
    "bot.set_car_motion(0, 0, 0)"
   ]
  },
  {
   "cell_type": "code",
   "execution_count": null,
   "id": "f770cb75-18d4-459c-b2d7-91410e5a10da",
   "metadata": {
    "scrolled": true,
    "tags": []
   },
   "outputs": [],
   "source": [
    "# 获取小车线速度和角速度数据\n",
    "# Obtain the linear velocity and angular velocity data of the car\n",
    "try:\n",
    "    while True:\n",
    "        V_x, V_y, V_z = bot.get_motion_data()\n",
    "        print(\"speed:\", V_x, V_y, V_z)\n",
    "        bot.clear_auto_report_data()\n",
    "        time.sleep(.1)\n",
    "except KeyboardInterrupt:\n",
    "    pass"
   ]
  },
  {
   "cell_type": "markdown",
   "id": "ea46e499-ec84-49c8-8c36-ad142f64f03b",
   "metadata": {},
   "source": [
    "## PID相关参数设置 Set PID parameters\n"
   ]
  },
  {
   "cell_type": "code",
   "execution_count": null,
   "id": "b3d1e947-8df0-4bbd-b345-c82bad63912c",
   "metadata": {},
   "outputs": [],
   "source": [
    "# PID 参数控制，会影响set_car_motion函数控制小车的运动速度变化情况。默认情况下可不调整。\n",
    "# PID parameter control will affect the set_CAR_motion function to control the speed change of the car.  This parameter is optional by default\n",
    "kp = 0.8\n",
    "ki = 0.06\n",
    "kd = 0.5\n",
    "bot.set_pid_param(kp, ki, kd, forever=False)"
   ]
  },
  {
   "cell_type": "code",
   "execution_count": null,
   "id": "8576be67-ba27-4b67-b122-3c384b31f9ae",
   "metadata": {},
   "outputs": [],
   "source": [
    "kp, ki, kd = bot.get_motion_pid()\n",
    "print(\"PID:\", kp, ki, kd)"
   ]
  },
  {
   "cell_type": "code",
   "execution_count": null,
   "id": "ee211829",
   "metadata": {},
   "outputs": [],
   "source": [
    "e1,e2,e3,e4 = bot.get_motor_encoder()\n",
    "print(\"encoder:\",e1,e2,e3,e4)"
   ]
  },
  {
   "cell_type": "markdown",
   "id": "f78d2ac5-2373-4a76-807a-a44cea1ef344",
   "metadata": {},
   "source": [
    "## 恢复出厂配置，重置Flash数据。\n",
    "## Restore factory Settings and reset Flash data"
   ]
  },
  {
   "cell_type": "code",
   "execution_count": null,
   "id": "aedd3227-fe59-4ebe-a1a2-1856e4caded4",
   "metadata": {},
   "outputs": [],
   "source": [
    "# 恢复出厂配置 Restoring factory Settings\n",
    "bot.reset_flash_value()"
   ]
  },
  {
   "cell_type": "code",
   "execution_count": null,
   "id": "dca91e00-07fb-409d-a4e5-6774d929ad36",
   "metadata": {},
   "outputs": [],
   "source": [
    "# 程序结束后请删除对象，避免在其他程序中使用Rosmaster库造成冲突\n",
    "# After the program is complete, delete the object to avoid conflicts caused by using the library in other programs\n",
    "del bot"
   ]
  }
 ],
 "metadata": {
  "kernelspec": {
   "display_name": "Python 3",
   "language": "python",
   "name": "python3"
  },
  "language_info": {
   "codemirror_mode": {
    "name": "ipython",
    "version": 3
   },
   "file_extension": ".py",
   "mimetype": "text/x-python",
   "name": "python",
   "nbconvert_exporter": "python",
   "pygments_lexer": "ipython3",
   "version": "3.8.9"
  }
 },
 "nbformat": 4,
 "nbformat_minor": 5
}
