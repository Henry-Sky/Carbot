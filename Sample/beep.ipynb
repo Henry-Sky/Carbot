{
 "cells": [
  {
   "cell_type": "code",
   "execution_count": 1,
   "id": "6dedfc5b-3989-4f87-922c-59874fda0770",
   "metadata": {},
   "outputs": [],
   "source": [
    "#!/usr/bin/env python3\n",
    "#coding=utf-8\n",
    "import time\n",
    "from Rosmaster_Lib import Rosmaster"
   ]
  },
  {
   "cell_type": "code",
   "execution_count": 2,
   "id": "55d5545c-818f-4da6-8e51-ea10d7d1b1d4",
   "metadata": {},
   "outputs": [
    {
     "name": "stdout",
     "output_type": "stream",
     "text": [
      "Rosmaster Serial Opened! Baudrate=115200\n"
     ]
    }
   ],
   "source": [
    "# 创建Rosmaster对象 bot  Create the Rosmaster object bot\n",
    "bot = Rosmaster()"
   ]
  },
  {
   "cell_type": "code",
   "execution_count": 7,
   "id": "74be1a81-9797-40b5-b5c8-2d3875df92eb",
   "metadata": {},
   "outputs": [
    {
     "ename": "NameError",
     "evalue": "name 'bot' is not defined",
     "output_type": "error",
     "traceback": [
      "\u001b[0;31m---------------------------------------------------------------------------\u001b[0m",
      "\u001b[0;31mNameError\u001b[0m                                 Traceback (most recent call last)",
      "\u001b[1;32m/home/henry/testspace/Sample/4.beep.ipynb 单元格 3\u001b[0m line \u001b[0;36m6\n\u001b[1;32m      <a href='vscode-notebook-cell://ssh-remote%2B1111/home/henry/testspace/Sample/4.beep.ipynb#W2sdnNjb2RlLXJlbW90ZQ%3D%3D?line=0'>1</a>\u001b[0m \u001b[39m# 蜂鸣器自动响100毫秒后关闭 \u001b[39;00m\n\u001b[1;32m      <a href='vscode-notebook-cell://ssh-remote%2B1111/home/henry/testspace/Sample/4.beep.ipynb#W2sdnNjb2RlLXJlbW90ZQ%3D%3D?line=1'>2</a>\u001b[0m \u001b[39m# 蜂鸣器开关，on_time=0：关闭，on_time=1：一直响，\u001b[39;00m\n\u001b[1;32m      <a href='vscode-notebook-cell://ssh-remote%2B1111/home/henry/testspace/Sample/4.beep.ipynb#W2sdnNjb2RlLXJlbW90ZQ%3D%3D?line=2'>3</a>\u001b[0m \u001b[39m# on_time>=10：响xx毫秒后自动关闭（on_time是10的倍数）。\u001b[39;00m\n\u001b[1;32m      <a href='vscode-notebook-cell://ssh-remote%2B1111/home/henry/testspace/Sample/4.beep.ipynb#W2sdnNjb2RlLXJlbW90ZQ%3D%3D?line=4'>5</a>\u001b[0m on_time \u001b[39m=\u001b[39m \u001b[39m1000\u001b[39m\n\u001b[0;32m----> <a href='vscode-notebook-cell://ssh-remote%2B1111/home/henry/testspace/Sample/4.beep.ipynb#W2sdnNjb2RlLXJlbW90ZQ%3D%3D?line=5'>6</a>\u001b[0m bot\u001b[39m.\u001b[39mset_beep(on_time)\n\u001b[1;32m      <a href='vscode-notebook-cell://ssh-remote%2B1111/home/henry/testspace/Sample/4.beep.ipynb#W2sdnNjb2RlLXJlbW90ZQ%3D%3D?line=6'>7</a>\u001b[0m time\u001b[39m.\u001b[39msleep(\u001b[39m1\u001b[39m) \u001b[39m# 延迟退出cell\u001b[39;00m\n",
      "\u001b[0;31mNameError\u001b[0m: name 'bot' is not defined"
     ]
    }
   ],
   "source": [
    "# 蜂鸣器自动响100毫秒后关闭 \n",
    "# 蜂鸣器开关，on_time=0：关闭，on_time=1：一直响，\n",
    "# on_time>=10：响xx毫秒后自动关闭（on_time是10的倍数）。\n",
    "\n",
    "on_time = 1000\n",
    "bot.set_beep(on_time)\n",
    "time.sleep(1) # 延迟退出cell"
   ]
  },
  {
   "cell_type": "code",
   "execution_count": null,
   "id": "5d62330c-47c8-43f8-94d3-aae2cb8dbfc5",
   "metadata": {},
   "outputs": [],
   "source": [
    "# 蜂鸣器自动响300毫秒后关闭\n",
    "# 蜂鸣器开关，on_time=0：关闭，on_time=1：一直响，\n",
    "# on_time>=10：响xx毫秒后自动关闭（on_time是10的倍数）。\n",
    "\n",
    "on_time = 300\n",
    "bot.set_beep(on_time)\n",
    "time.sleep(1) # 延迟退出cell"
   ]
  },
  {
   "cell_type": "code",
   "execution_count": null,
   "id": "8bbf5425-883c-42c2-82b2-591b2f98167a",
   "metadata": {},
   "outputs": [],
   "source": [
    "# 蜂鸣器一直响\n",
    "# 蜂鸣器开关，on_time=0：关闭，on_time=1：一直响，\n",
    "# on_time>=10：响xx毫秒后自动关闭（on_time是10的倍数）。\n",
    "\n",
    "on_time = 1\n",
    "bot.set_beep(on_time)\n",
    "time.sleep(1) # 延迟退出cell"
   ]
  },
  {
   "cell_type": "code",
   "execution_count": null,
   "id": "88cd5eb7-4c6a-4576-90c8-40997dcab1da",
   "metadata": {},
   "outputs": [],
   "source": [
    "# 蜂鸣器关闭\n",
    "# 蜂鸣器开关，on_time=0：关闭，on_time=1：一直响，\n",
    "# on_time>=10：响xx毫秒后自动关闭（on_time是10的倍数）。\n",
    "\n",
    "on_time = 0\n",
    "bot.set_beep(on_time)\n",
    "time.sleep(1) # 延迟退出cell"
   ]
  },
  {
   "cell_type": "code",
   "execution_count": 6,
   "id": "fac9dbc2-07bb-4889-87d0-2f319a592343",
   "metadata": {},
   "outputs": [
    {
     "name": "stdout",
     "output_type": "stream",
     "text": [
      "serial Close!\n"
     ]
    }
   ],
   "source": [
    "# 程序结束后请删除对象，避免在其他程序中使用库造成冲突\n",
    "\n",
    "del bot"
   ]
  }
 ],
 "metadata": {
  "kernelspec": {
   "display_name": "Python 3",
   "language": "python",
   "name": "python3"
  },
  "language_info": {
   "codemirror_mode": {
    "name": "ipython",
    "version": 3
   },
   "file_extension": ".py",
   "mimetype": "text/x-python",
   "name": "python",
   "nbconvert_exporter": "python",
   "pygments_lexer": "ipython3",
   "version": "3.8.9"
  }
 },
 "nbformat": 4,
 "nbformat_minor": 5
}
