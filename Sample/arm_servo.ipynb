{
 "cells": [
  {
   "cell_type": "code",
   "execution_count": 39,
   "id": "5ac6e98b-cc7c-4473-af5c-de50da6d88b8",
   "metadata": {},
   "outputs": [],
   "source": [
    "#!/usr/bin/env python3\n",
    "#coding=utf-8\n",
    "import time\n",
    "from carbot_lib import Carbot\n",
    "from ipywidgets import interact\n",
    "import ipywidgets as widgets"
   ]
  },
  {
   "cell_type": "code",
   "execution_count": 40,
   "id": "a61e4c10-6650-47e0-bd01-9dada327fd21",
   "metadata": {},
   "outputs": [
    {
     "name": "stdout",
     "output_type": "stream",
     "text": [
      "Rosmaster Serial Opened! Baudrate=115200\n",
      "serial Close!\n"
     ]
    }
   ],
   "source": [
    "# 创建Rosmaster对象 bot Create the Rosmaster object bot\n",
    "bot = Carbot()"
   ]
  },
  {
   "cell_type": "code",
   "execution_count": 41,
   "id": "226ac62a-bc83-4325-91a2-d8e38753d027",
   "metadata": {},
   "outputs": [
    {
     "name": "stdout",
     "output_type": "stream",
     "text": [
      "----------------create receive threading--------------\n"
     ]
    }
   ],
   "source": [
    "# 启动接收数据 Start receiving data\n",
    "bot.create_receive_threading()"
   ]
  },
  {
   "cell_type": "code",
   "execution_count": 42,
   "id": "1d677caa-5d52-45e8-bdb2-66ae966abb1c",
   "metadata": {},
   "outputs": [
    {
     "ename": "NameError",
     "evalue": "name 'servo_id' is not defined",
     "output_type": "error",
     "traceback": [
      "\u001b[0;31m---------------------------------------------------------------------------\u001b[0m",
      "\u001b[0;31mNameError\u001b[0m                                 Traceback (most recent call last)",
      "\u001b[1;32m/home/henry/testspace/Sample/9.arm_servo.ipynb 单元格 4\u001b[0m line \u001b[0;36m5\n\u001b[1;32m      <a href='vscode-notebook-cell://ssh-remote%2B7b22686f73744e616d65223a22436172626f74227d/home/henry/testspace/Sample/9.arm_servo.ipynb#W3sdnNjb2RlLXJlbW90ZQ%3D%3D?line=0'>1</a>\u001b[0m \u001b[39m# 读取当前串口舵机的角度，读取的角度值和设置的角度值可能存在1-2度偏差。\u001b[39;00m\n\u001b[1;32m      <a href='vscode-notebook-cell://ssh-remote%2B7b22686f73744e616d65223a22436172626f74227d/home/henry/testspace/Sample/9.arm_servo.ipynb#W3sdnNjb2RlLXJlbW90ZQ%3D%3D?line=1'>2</a>\u001b[0m \u001b[39m# 读取错误返回-1\u001b[39;00m\n\u001b[1;32m      <a href='vscode-notebook-cell://ssh-remote%2B7b22686f73744e616d65223a22436172626f74227d/home/henry/testspace/Sample/9.arm_servo.ipynb#W3sdnNjb2RlLXJlbW90ZQ%3D%3D?line=2'>3</a>\u001b[0m \u001b[39m# Read the current serial steering gear Angle, read the Angle value and the set Angle value may be 1-2 degrees deviation\u001b[39;00m\n\u001b[1;32m      <a href='vscode-notebook-cell://ssh-remote%2B7b22686f73744e616d65223a22436172626f74227d/home/henry/testspace/Sample/9.arm_servo.ipynb#W3sdnNjb2RlLXJlbW90ZQ%3D%3D?line=3'>4</a>\u001b[0m \u001b[39m# Read error returns -1\u001b[39;00m\n\u001b[0;32m----> <a href='vscode-notebook-cell://ssh-remote%2B7b22686f73744e616d65223a22436172626f74227d/home/henry/testspace/Sample/9.arm_servo.ipynb#W3sdnNjb2RlLXJlbW90ZQ%3D%3D?line=4'>5</a>\u001b[0m read_servo \u001b[39m=\u001b[39m bot\u001b[39m.\u001b[39mget_uart_servo_angle(servo_id)\n\u001b[1;32m      <a href='vscode-notebook-cell://ssh-remote%2B7b22686f73744e616d65223a22436172626f74227d/home/henry/testspace/Sample/9.arm_servo.ipynb#W3sdnNjb2RlLXJlbW90ZQ%3D%3D?line=5'>6</a>\u001b[0m \u001b[39mprint\u001b[39m(\u001b[39m\"\u001b[39m\u001b[39mread angle:\u001b[39m\u001b[39m\"\u001b[39m, servo_id, read_servo)\n",
      "\u001b[0;31mNameError\u001b[0m: name 'servo_id' is not defined"
     ]
    }
   ],
   "source": [
    "# 读取当前串口舵机的角度，读取的角度值和设置的角度值可能存在1-2度偏差。\n",
    "# 读取错误返回-1\n",
    "# Read the current serial steering gear Angle, read the Angle value and the set Angle value may be 1-2 degrees deviation\n",
    "# Read error returns -1\n",
    "read_servo = bot.get_uart_servo_angle(servo_id)\n",
    "print(\"read angle:\", servo_id, read_servo)"
   ]
  },
  {
   "cell_type": "code",
   "execution_count": null,
   "id": "649029f5-902c-42aa-a226-bb57cbd5d148",
   "metadata": {},
   "outputs": [
    {
     "data": {
      "application/vnd.jupyter.widget-view+json": {
       "model_id": "cb3a0fcadb784299a868cb01006ede47",
       "version_major": 2,
       "version_minor": 0
      },
      "text/plain": [
       "interactive(children=(IntSlider(value=90, description='s1', max=180), IntSlider(value=90, description='s2', ma…"
      ]
     },
     "metadata": {},
     "output_type": "display_data"
    }
   ],
   "source": [
    "# 一次控制的六个串口舵机 Six serial steering gear at one time\n",
    "def arm_servo(s1, s2, s3, s4, s5, s6):\n",
    "    bot.set_uart_servo_angle_array([s1, s2, s3, s4, s5, s6])\n",
    "    return s1, s2, s3, s4, s5, s6\n",
    "\n",
    "# 创建六个滑块来控制串口舵机的六个关节 Create six sliders to control the six joints of the serial actuator\n",
    "interact(arm_servo, \\\n",
    "         s1=widgets.IntSlider(min=0,max=180,step=1,value=90), \\\n",
    "         s2=widgets.IntSlider(min=0,max=180,step=1,value=90), \\\n",
    "         s3=widgets.IntSlider(min=0,max=180,step=1,value=90), \\\n",
    "         s4=widgets.IntSlider(min=0,max=180,step=1,value=90), \\\n",
    "         s5=widgets.IntSlider(min=0,max=180,step=1,value=90), \\\n",
    "         s6=widgets.IntSlider(min=0,max=180,step=1,value=90));\n"
   ]
  },
  {
   "cell_type": "code",
   "execution_count": null,
   "id": "2bd8f4b7-fd64-4fe7-a56d-9f996aaacbf5",
   "metadata": {},
   "outputs": [],
   "source": [
    "# 一次性读取六个舵机角度，读取的角度值和设置的角度值可能存在1-2度偏差。\n",
    "# 读取正确返回六个舵机的角度[xx, xx, xx, xx, xx, xx]，如果某个舵机错误则那一位为-1\n",
    "# Read six steering gear angles at one time, the Angle values read and set may be 1-2 degrees deviation\n",
    "# Read the correct return six steering gear Angle [xx, xx, xx, xx, xx, xx, xx], if one of the steering gear is wrong, which one is -1 \n",
    "read_array = bot.get_uart_servo_angle_array()\n",
    "print(\"read array:\", read_array)\n",
    "\n",
    "# 120, -64, 98"
   ]
  },
  {
   "cell_type": "code",
   "execution_count": null,
   "id": "0b640c54",
   "metadata": {},
   "outputs": [],
   "source": [
    "while True:\n",
    "    bot.set_pwm_servo(1,100)\n",
    "    time.sleep(1)\n",
    "    # 机械臂拾取\n",
    "    bot.set_uart_servo_angle(1,180)\n",
    "    bot.set_uart_servo_angle(3,64)\n",
    "    time.sleep(1)\n",
    "    bot.set_uart_servo_angle(2,180)\n",
    "    time.sleep(1)\n",
    "    # 机械爪释放\n",
    "    bot.set_pwm_servo(1,70)\n",
    "    time.sleep(2)\n",
    "    # 机械抓抓取\n",
    "    bot.set_pwm_servo(1,100)\n",
    "    time.sleep(1)\n",
    "    # 机械臂放回\n",
    "    bot.set_uart_servo_angle(1,126)\n",
    "    bot.set_uart_servo_angle(3,88)\n",
    "    time.sleep(1)\n",
    "    bot.set_uart_servo_angle(2,27)\n",
    "    time.sleep(1)\n",
    "    # 机械爪释放\n",
    "    bot.set_pwm_servo(1,70)\n",
    "    time.sleep(1)\n",
    "\n"
   ]
  },
  {
   "cell_type": "code",
   "execution_count": null,
   "id": "b234fd38",
   "metadata": {},
   "outputs": [],
   "source": [
    "bot.set_uart_servo_angle_array([90,90,90,90,90,90])"
   ]
  },
  {
   "cell_type": "code",
   "execution_count": null,
   "id": "cbc20b24",
   "metadata": {},
   "outputs": [],
   "source": [
    "# 127, 246, 38\n",
    "# 机械臂识别\n",
    "bot.set_uart_servo_angle(3,38)\n",
    "bot.set_uart_servo_angle(2,246)\n",
    "time.sleep(1)\n",
    "bot.set_uart_servo_angle(1,127)"
   ]
  },
  {
   "cell_type": "code",
   "execution_count": 45,
   "id": "c64b1a4b",
   "metadata": {},
   "outputs": [],
   "source": [
    "# 机械臂拾取\n",
    "bot.set_uart_servo_angle(1,180)\n",
    "bot.set_uart_servo_angle(3,64)\n",
    "time.sleep(1)\n",
    "bot.set_uart_servo_angle(2,180)"
   ]
  },
  {
   "cell_type": "code",
   "execution_count": null,
   "id": "5c352a50",
   "metadata": {},
   "outputs": [],
   "source": [
    "# 机械抓抓取\n",
    "bot.set_pwm_servo(1,100)"
   ]
  },
  {
   "cell_type": "code",
   "execution_count": null,
   "id": "3c3b9e43",
   "metadata": {},
   "outputs": [],
   "source": [
    "# 机械爪释放\n",
    "bot.set_pwm_servo(1,70)"
   ]
  },
  {
   "cell_type": "code",
   "execution_count": null,
   "id": "a66a2563",
   "metadata": {},
   "outputs": [],
   "source": [
    "# 机械臂放回\n",
    "bot.set_uart_servo_angle(1,126)\n",
    "bot.set_uart_servo_angle(3,88)\n",
    "time.sleep(1)\n",
    "bot.set_uart_servo_angle(2,27)\n"
   ]
  },
  {
   "cell_type": "code",
   "execution_count": null,
   "id": "fa69f7db-8234-40a7-baf3-9e44449e3f0b",
   "metadata": {},
   "outputs": [],
   "source": [
    "# 关闭扭矩力，可以用手转动舵机关节，但命令无法控制转动\n",
    "# Turn off torque force, the steering gear joint can be turned by hand, but command cannot control rotation\n",
    "bot.set_uart_servo_torque(False)"
   ]
  },
  {
   "cell_type": "code",
   "execution_count": null,
   "id": "df559693-8496-4f30-995c-c582602445e2",
   "metadata": {},
   "outputs": [],
   "source": [
    "# 打开扭矩力，命令可以控制转动，不可以用手转动舵机关节\n",
    "# Turn on torque force, command can control rotation, can not turn steering gear joint by hand\n",
    "bot.set_uart_servo_torque(True)"
   ]
  },
  {
   "cell_type": "code",
   "execution_count": null,
   "id": "dca91e00-07fb-409d-a4e5-6774d929ad36",
   "metadata": {},
   "outputs": [],
   "source": [
    "# 程序结束后请删除对象，避免在其他程序中使用Rosmaster库造成冲突\n",
    "# After the program is complete, delete the object to avoid conflicts caused by using the library in other programs\n",
    "del bot"
   ]
  },
  {
   "cell_type": "code",
   "execution_count": 60,
   "id": "0663b9e5",
   "metadata": {},
   "outputs": [
    {
     "ename": "KeyboardInterrupt",
     "evalue": "",
     "output_type": "error",
     "traceback": [
      "\u001b[0;31m---------------------------------------------------------------------------\u001b[0m",
      "\u001b[0;31mKeyboardInterrupt\u001b[0m                         Traceback (most recent call last)",
      "\u001b[1;32m/home/henry/testspace/Sample/9.arm_servo.ipynb 单元格 17\u001b[0m line \u001b[0;36m7\n\u001b[1;32m      <a href='vscode-notebook-cell://ssh-remote%2B7b22686f73744e616d65223a22436172626f74227d/home/henry/testspace/Sample/9.arm_servo.ipynb#X22sdnNjb2RlLXJlbW90ZQ%3D%3D?line=4'>5</a>\u001b[0m time\u001b[39m.\u001b[39msleep(\u001b[39m1\u001b[39m)\n\u001b[1;32m      <a href='vscode-notebook-cell://ssh-remote%2B7b22686f73744e616d65223a22436172626f74227d/home/henry/testspace/Sample/9.arm_servo.ipynb#X22sdnNjb2RlLXJlbW90ZQ%3D%3D?line=5'>6</a>\u001b[0m bot\u001b[39m.\u001b[39mset_uart_servo_angle(\u001b[39m2\u001b[39m,\u001b[39m180\u001b[39m)\n\u001b[0;32m----> <a href='vscode-notebook-cell://ssh-remote%2B7b22686f73744e616d65223a22436172626f74227d/home/henry/testspace/Sample/9.arm_servo.ipynb#X22sdnNjb2RlLXJlbW90ZQ%3D%3D?line=6'>7</a>\u001b[0m time\u001b[39m.\u001b[39;49msleep(\u001b[39m1\u001b[39;49m)\n\u001b[1;32m      <a href='vscode-notebook-cell://ssh-remote%2B7b22686f73744e616d65223a22436172626f74227d/home/henry/testspace/Sample/9.arm_servo.ipynb#X22sdnNjb2RlLXJlbW90ZQ%3D%3D?line=7'>8</a>\u001b[0m \u001b[39m# 机械抓抓取\u001b[39;00m\n\u001b[1;32m      <a href='vscode-notebook-cell://ssh-remote%2B7b22686f73744e616d65223a22436172626f74227d/home/henry/testspace/Sample/9.arm_servo.ipynb#X22sdnNjb2RlLXJlbW90ZQ%3D%3D?line=8'>9</a>\u001b[0m bot\u001b[39m.\u001b[39mset_pwm_servo(\u001b[39m1\u001b[39m,\u001b[39m100\u001b[39m)\n",
      "\u001b[0;31mKeyboardInterrupt\u001b[0m: "
     ]
    }
   ],
   "source": [
    "while True:\n",
    "    # 机械臂拾取\n",
    "    bot.set_uart_servo_angle(1,180)\n",
    "    bot.set_uart_servo_angle(3,64)\n",
    "    time.sleep(1)\n",
    "    bot.set_uart_servo_angle(2,180)\n",
    "    time.sleep(1)\n",
    "    # 机械抓抓取\n",
    "    bot.set_pwm_servo(1,100)\n",
    "    time.sleep(1)\n",
    "    # 机械臂放回\n",
    "    bot.set_uart_servo_angle(1,126)\n",
    "    bot.set_uart_servo_angle(3,88)\n",
    "    time.sleep(1)\n",
    "    bot.set_uart_servo_angle(2,27)\n",
    "    time.sleep(1)\n",
    "    # 机械爪释放\n",
    "    bot.set_pwm_servo(1,70)\n",
    "    time.sleep(1)\n",
    "    # 机械抓抓取\n",
    "    bot.set_pwm_servo(1,100)\n",
    "    time.sleep(1)\n",
    "    bot.set_uart_servo_angle(1,180)\n",
    "    bot.set_uart_servo_angle(3,64)\n",
    "    time.sleep(1)\n",
    "    bot.set_uart_servo_angle(2,180)\n",
    "    time.sleep(1)\n",
    "    # 机械爪释放\n",
    "    bot.set_pwm_servo(1,70)\n",
    "    time.sleep(1)"
   ]
  }
 ],
 "metadata": {
  "kernelspec": {
   "display_name": "Python 3",
   "language": "python",
   "name": "python3"
  },
  "language_info": {
   "codemirror_mode": {
    "name": "ipython",
    "version": 3
   },
   "file_extension": ".py",
   "mimetype": "text/x-python",
   "name": "python",
   "nbconvert_exporter": "python",
   "pygments_lexer": "ipython3",
   "version": "3.8.9"
  }
 },
 "nbformat": 4,
 "nbformat_minor": 5
}
