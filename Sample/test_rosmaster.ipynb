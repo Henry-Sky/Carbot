{
 "cells": [
  {
   "cell_type": "code",
   "execution_count": null,
   "id": "0b64905e",
   "metadata": {},
   "outputs": [],
   "source": [
    "#!/usr/bin/env python3\n",
    "#coding=utf-8\n",
    "\n",
    "# 导入Rosmaster驱动库\n",
    "from carbot_lib import Carbot"
   ]
  },
  {
   "cell_type": "code",
   "execution_count": null,
   "id": "2b9babf6",
   "metadata": {
    "tags": []
   },
   "outputs": [],
   "source": [
    "# 创建Rosmaster对象\n",
    "bot = Carbot()\n",
    "# help 能够打印bot的所有方法和备注内容。 \n",
    "# Help can print all the bot methods and remarks\n",
    "# help(bot)"
   ]
  },
  {
   "cell_type": "code",
   "execution_count": null,
   "id": "2b97a599",
   "metadata": {},
   "outputs": [],
   "source": [
    "# 启动接收数据，只能启动一次，所有读取数据的功能都是基于此方法 \n",
    "# Start to receive data, can only start once, all read data function is based on this method  \n",
    "bot.create_receive_threading()"
   ]
  },
  {
   "cell_type": "code",
   "execution_count": null,
   "id": "75b458c5",
   "metadata": {},
   "outputs": [],
   "source": [
    "# 读取版本号 Read version number\n",
    "version = bot.get_version()\n",
    "print(version)"
   ]
  },
  {
   "cell_type": "code",
   "execution_count": null,
   "id": "6c3df250",
   "metadata": {},
   "outputs": [],
   "source": [
    "# 读取电池电压值 Read the battery voltage\n",
    "voltage = bot.get_battery_voltage()\n",
    "print(voltage)"
   ]
  },
  {
   "cell_type": "code",
   "execution_count": null,
   "id": "5008426f",
   "metadata": {},
   "outputs": [],
   "source": [
    "bot.get_car_type_from_machine()"
   ]
  },
  {
   "cell_type": "code",
   "execution_count": null,
   "id": "064bc88a",
   "metadata": {},
   "outputs": [],
   "source": [
    "# 程序结束后请删除对象，避免在其他程序中使用Rosmaster库造成冲突\n",
    "# Please delete the object after the program to avoid conflicts caused by Rosmaster library in other programs\n",
    "del bot"
   ]
  }
 ],
 "metadata": {
  "kernelspec": {
   "display_name": "Python 3",
   "language": "python",
   "name": "python3"
  },
  "language_info": {
   "codemirror_mode": {
    "name": "ipython",
    "version": 3
   },
   "file_extension": ".py",
   "mimetype": "text/x-python",
   "name": "python",
   "nbconvert_exporter": "python",
   "pygments_lexer": "ipython3",
   "version": "3.8.9"
  }
 },
 "nbformat": 4,
 "nbformat_minor": 5
}
